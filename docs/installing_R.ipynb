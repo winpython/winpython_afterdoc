{
 "cells": [
  {
   "cell_type": "markdown",
   "metadata": {},
   "source": [
    "# Installating R"
   ]
  },
  {
   "cell_type": "code",
   "execution_count": null,
   "metadata": {},
   "outputs": [],
   "source": [
    "import os\n",
    "import sys\n",
    "import io\n",
    "import re"
   ]
  },
  {
   "cell_type": "code",
   "execution_count": null,
   "metadata": {},
   "outputs": [],
   "source": [
    "import urllib.request as request  # Python 3"
   ]
  },
  {
   "cell_type": "code",
   "execution_count": null,
   "metadata": {},
   "outputs": [],
   "source": [
    "# get latest stable portable release download link \n",
    "# the vorboss server (UK) does not redirect back to sourceforge\n",
    "base_url = \"https://vorboss.dl.sourceforge.net/project/rportable/R-Portable/\"\n",
    "g = request.urlopen(base_url)\n",
    "s = g.read().decode()\n",
    "g.close;\n",
    "\n",
    "R_version = re.findall(r'<a href=\"(\\d\\.\\d\\.\\d)/\">',s)[-1]\n",
    "print(\"R Version: \"+R_version)\n",
    "paflink = base_url+R_version+\"/R-Portable_\"+R_version+\".paf.exe\"\n",
    "R_installer_fullpath = os.path.join(os.environ[\"WINPYDIRBASE\"], \"t\", \"R.paf.exe\")"
   ]
  },
  {
   "cell_type": "code",
   "execution_count": null,
   "metadata": {},
   "outputs": [],
   "source": [
    "# start download\n",
    "g = request.urlopen(paflink) \n",
    "with io.open(R_installer_fullpath, 'wb') as f:\n",
    "    f.write(g.read())\n",
    "g.close\n",
    "g = None"
   ]
  },
  {
   "cell_type": "code",
   "execution_count": null,
   "metadata": {},
   "outputs": [],
   "source": [
    "# checking it's there\n",
    "assert os.path.isfile(R_installer_fullpath)"
   ]
  },
  {
   "cell_type": "markdown",
   "metadata": {},
   "source": [
    "### download 7zip to extract R.paf.exe"
   ]
  },
  {
   "cell_type": "code",
   "execution_count": null,
   "metadata": {},
   "outputs": [],
   "source": [
    "# first download version 9.20, since it is availabe as zip\n",
    "sevenzip_dl_url = \"https://vorboss.dl.sourceforge.net/project/sevenzip/7-Zip/9.20/7za920.zip\"\n",
    "sevenzip_file = os.path.join(os.environ[\"WINPYDIRBASE\"], \"t\", \"7za920.zip\")\n",
    "g = request.urlopen(sevenzip_dl_url) \n",
    "with io.open(sevenzip_file, 'wb') as f:\n",
    "    f.write(g.read())\n",
    "g.close\n",
    "g = None\n",
    "\n",
    "import zipfile\n",
    "try:\n",
    "    with zipfile.ZipFile(sevenzip_file) as z:\n",
    "        sevenzip_install_dir = os.path.join(os.environ[\"WINPYDIRBASE\"], \"t\", \"7za920\")\n",
    "        os.mkdir(sevenzip_install_dir)\n",
    "        z.extractall(sevenzip_install_dir)\n",
    "        print(\"Extracted 7zip v9.20\")\n",
    "except:\n",
    "    print(\"Invalid file\")\n",
    "\n",
    "os.remove(sevenzip_file)\n",
    "sevenzip_exe = os.path.join(sevenzip_install_dir,\"7za.exe\")"
   ]
  },
  {
   "cell_type": "code",
   "execution_count": null,
   "metadata": {},
   "outputs": [],
   "source": [
    "# then download version 19.00\n",
    "sevenzip_dl_url = \"https://vorboss.dl.sourceforge.net/project/sevenzip/7-Zip/19.00/7z1900.exe\"\n",
    "sevenzip_file = os.path.join(os.environ[\"WINPYDIRBASE\"], \"t\", \"7z1900.exe\")\n",
    "g = request.urlopen(sevenzip_dl_url) \n",
    "with io.open(sevenzip_file, 'wb') as f:\n",
    "    f.write(g.read())\n",
    "g.close\n",
    "g = None"
   ]
  },
  {
   "cell_type": "code",
   "execution_count": null,
   "metadata": {},
   "outputs": [],
   "source": [
    "# and extract 7zip v19.00  with 7zip v9.20\n",
    "from subprocess import run\n",
    "extr_path = os.path.join(os.environ[\"WINPYDIRBASE\"], \"t\", \"7z\")\n",
    "proc = run(sevenzip_exe+' x '+ sevenzip_file + ' -o' + extr_path)\n",
    "assert proc.returncode == 0\n",
    "\n",
    "# remove old 7zip version and 7z archive\n",
    "import shutil\n",
    "shutil.rmtree(sevenzip_install_dir)\n",
    "os.remove(sevenzip_file)\n",
    "\n",
    "sevenzip_exe=os.path.join(extr_path,\"7z.exe\")"
   ]
  },
  {
   "cell_type": "code",
   "execution_count": null,
   "metadata": {},
   "outputs": [],
   "source": [
    "# extract R.paf.exe\n",
    "extr_path = os.path.join(os.environ[\"WINPYDIRBASE\"], \"t\", \"R-Portable\")\n",
    "proc = run(sevenzip_exe+' x '+ R_installer_fullpath + ' -x!$* -o' + extr_path) # do not extract the $PLUGINSDIR folder\n",
    "assert proc.returncode == 0"
   ]
  },
  {
   "cell_type": "markdown",
   "metadata": {},
   "source": [
    "### write a R script to install necessary packages"
   ]
  },
  {
   "cell_type": "code",
   "execution_count": null,
   "metadata": {},
   "outputs": [],
   "source": [
    "Rscript_text = r\"\"\"\n",
    "install.packages(c('stringi'),repos=\"https://cloud.r-project.org/\",type=\"binary\")\n",
    "install.packages(c('repr', 'IRdisplay', 'evaluate', 'crayon', 'pbdZMQ', 'devtools', 'uuid', 'digest'),repos=\"https://cloud.r-project.org/\",type=\"binary\")\n",
    "devtools::install_github('IRkernel/IRkernel')\n",
    "IRkernel::installspec()\n",
    "\"\"\"\n",
    "\n",
    "with io.open(\"temp1.R\", 'w', encoding = sys.getdefaultencoding() ) as f:\n",
    "    for line in Rscript_text.splitlines():\n",
    "        f.write('%s\\n' %  line  )"
   ]
  },
  {
   "cell_type": "markdown",
   "metadata": {},
   "source": [
    "### call R script\n",
    "see status in the Windows terminal window"
   ]
  },
  {
   "cell_type": "code",
   "execution_count": null,
   "metadata": {},
   "outputs": [],
   "source": [
    "Rscript_exe = os.path.join(os.environ[\"WINPYDIRBASE\"], \"t\", \"R-Portable\", \"App\", \"R-Portable\", \"bin\", \"Rscript.exe\")\n",
    "run(Rscript_exe+\" temp1.R\")"
   ]
  },
  {
   "cell_type": "markdown",
   "metadata": {},
   "source": [
    "#### Fix the kernel.json to allow arbitrary drive letters\n",
    "\n",
    "the path to R is hardcoded in the kernel.json file. \n",
    "this will cause trouble, if the drive letter of the usb drive changes. \n",
    "use relative paths instead."
   ]
  },
  {
   "cell_type": "code",
   "execution_count": null,
   "metadata": {},
   "outputs": [],
   "source": [
    "kernel_path = os.path.join(os.environ[\"WINPYDIRBASE\"], \"settings\", \"kernels\", \"ir\", \"kernel.json\")\n",
    "assert os.path.isfile(kernel_path)\n",
    "\n",
    "with open(kernel_path, 'r') as f:\n",
    "    kernel_str = f.read()\n",
    "\n",
    "new_kernel_str = kernel_str.replace(os.environ[\"WINPYDIRBASE\"].replace(\"\\\\\",\"/\"),\"{prefix}/..\")\n",
    "print(new_kernel_str)\n",
    "\n",
    "with io.open(kernel_path, 'w', encoding = sys.getdefaultencoding() ) as f:\n",
    "    for line in new_kernel_str.splitlines():\n",
    "        f.write('%s\\n' %  line  )"
   ]
  },
  {
   "cell_type": "markdown",
   "metadata": {},
   "source": [
    "#### delete setup files"
   ]
  },
  {
   "cell_type": "code",
   "execution_count": null,
   "metadata": {},
   "outputs": [],
   "source": [
    "os.remove(R_installer_fullpath)\n",
    "os.remove(\"temp1.R\")"
   ]
  }
 ],
 "metadata": {
  "kernelspec": {
   "display_name": "Python 3",
   "language": "python",
   "name": "python3"
  },
  "language_info": {
   "codemirror_mode": {
    "name": "ipython",
    "version": 3
   },
   "file_extension": ".py",
   "mimetype": "text/x-python",
   "name": "python",
   "nbconvert_exporter": "python",
   "pygments_lexer": "ipython3",
   "version": "3.9.2"
  }
 },
 "nbformat": 4,
 "nbformat_minor": 4
}
